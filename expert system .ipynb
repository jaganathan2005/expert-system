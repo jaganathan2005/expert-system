{
 "cells": [
  {
   "cell_type": "code",
   "execution_count": 1,
   "id": "a048c8bf",
   "metadata": {},
   "outputs": [
    {
     "name": "stdout",
     "output_type": "stream",
     "text": [
      "Welcome to the IPL\n",
      "Enter your name: guru balan\n",
      "Enter your age: 19\n",
      "For the following questions, please answer either yes or no.\n",
      "Are you already part of a playing team? yes\n",
      "Have you traveled to other states? yes\n",
      "Have you played batting before? 200\n",
      "Are you an all-rounder? yes\n",
      "As an all-rounder, you can get practice.\n"
     ]
    }
   ],
   "source": [
    "print(\"Welcome to the IPL\")\n",
    "name = input(\"Enter your name: \")\n",
    "age = int(input(\"Enter your age: \"))\n",
    "if age >= 18:\n",
    "    print(\"For the following questions, please answer either yes or no.\")\n",
    "    play = input(\"Are you already part of a playing team? \")\n",
    "    trip = input(\"Have you traveled to other states? \")\n",
    "    bat = input(\"Have you played batting before? \")\n",
    "    allr = input(\"Are you an all-rounder? \")\n",
    "    if play == 'yes' and trip == 'no' and bat == 'yes':\n",
    "        if allr == 'no':\n",
    "            print(\"You can play as a batsman.\")\n",
    "        else:\n",
    "            print(\"You can play as an all-rounder, but you should also practice your bowling.\")\n",
    "            print(\"If you persist as an all-rounder, please check with your team.\")\n",
    "    elif play == 'yes' and allr == 'yes' and (trip == 'yes' or trip == 'no'):\n",
    "        print(\"As an all-rounder, you can get practice.\")\n",
    "    elif play == 'yes' and trip == 'yes' and allr == 'yes':\n",
    "        if bat == 'no':\n",
    "            print(\"You can play as a bowler.\")\n",
    "        else:\n",
    "            print(\"You can play as an all-rounder.\")\n",
    "            print(\"If you persist as an all-rounder, please check with your team.\")\n",
    "    else:\n",
    "        print(\"You are not eligible to play in the IPL.\")\n",
    "else:\n",
    "    print(\"You are not allowed to play in the IPL.\")\n"
   ]
  },
  {
   "cell_type": "code",
   "execution_count": null,
   "id": "fc289139",
   "metadata": {},
   "outputs": [],
   "source": []
  }
 ],
 "metadata": {
  "kernelspec": {
   "display_name": "Python 3 (ipykernel)",
   "language": "python",
   "name": "python3"
  },
  "language_info": {
   "codemirror_mode": {
    "name": "ipython",
    "version": 3
   },
   "file_extension": ".py",
   "mimetype": "text/x-python",
   "name": "python",
   "nbconvert_exporter": "python",
   "pygments_lexer": "ipython3",
   "version": "3.9.13"
  }
 },
 "nbformat": 4,
 "nbformat_minor": 5
}
